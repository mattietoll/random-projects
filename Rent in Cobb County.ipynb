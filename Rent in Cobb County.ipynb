{
 "cells": [
  {
   "cell_type": "markdown",
   "metadata": {},
   "source": [
    "I would like to figure out when rent prices are the lowest in the area where I am trying to move (Cobb county and surrounding areas)."
   ]
  },
  {
   "cell_type": "code",
   "execution_count": 175,
   "metadata": {},
   "outputs": [
    {
     "name": "stdout",
     "output_type": "stream",
     "text": [
      "Index(['RegionName', 'State', 'Metro', 'StateCodeFIPS', 'MunicipalCodeFIPS',\n",
      "       'SizeRank', '2010-01', '2010-02', '2010-03', '2010-04',\n",
      "       ...\n",
      "       '2018-06', '2018-07', '2018-08', '2018-09', '2018-10', '2018-11',\n",
      "       '2018-12', '2019-01', '2019-02', '2019-03'],\n",
      "      dtype='object', length=117)\n"
     ]
    }
   ],
   "source": [
    "import pandas as pd\n",
    "zillow_data = pd.read_csv('zillow_rentals.csv')\n",
    "print(zillow_data.columns)"
   ]
  },
  {
   "cell_type": "markdown",
   "metadata": {},
   "source": [
    "I am only interested in rent prices in the Cobb and Fulton counties of Georgia."
   ]
  },
  {
   "cell_type": "code",
   "execution_count": 177,
   "metadata": {},
   "outputs": [
    {
     "data": {
      "text/html": [
       "<div>\n",
       "<style scoped>\n",
       "    .dataframe tbody tr th:only-of-type {\n",
       "        vertical-align: middle;\n",
       "    }\n",
       "\n",
       "    .dataframe tbody tr th {\n",
       "        vertical-align: top;\n",
       "    }\n",
       "\n",
       "    .dataframe thead th {\n",
       "        text-align: right;\n",
       "    }\n",
       "</style>\n",
       "<table border=\"1\" class=\"dataframe\">\n",
       "  <thead>\n",
       "    <tr style=\"text-align: right;\">\n",
       "      <th></th>\n",
       "      <th>RegionName</th>\n",
       "      <th>State</th>\n",
       "      <th>Metro</th>\n",
       "      <th>StateCodeFIPS</th>\n",
       "      <th>MunicipalCodeFIPS</th>\n",
       "      <th>SizeRank</th>\n",
       "      <th>2010-01</th>\n",
       "      <th>2010-02</th>\n",
       "      <th>2010-03</th>\n",
       "      <th>2010-04</th>\n",
       "      <th>...</th>\n",
       "      <th>2018-06</th>\n",
       "      <th>2018-07</th>\n",
       "      <th>2018-08</th>\n",
       "      <th>2018-09</th>\n",
       "      <th>2018-10</th>\n",
       "      <th>2018-11</th>\n",
       "      <th>2018-12</th>\n",
       "      <th>2019-01</th>\n",
       "      <th>2019-02</th>\n",
       "      <th>2019-03</th>\n",
       "    </tr>\n",
       "  </thead>\n",
       "  <tbody>\n",
       "    <tr>\n",
       "      <th>45</th>\n",
       "      <td>Fulton County</td>\n",
       "      <td>GA</td>\n",
       "      <td>Atlanta-Sandy Springs-Roswell</td>\n",
       "      <td>13</td>\n",
       "      <td>121</td>\n",
       "      <td>46</td>\n",
       "      <td>NaN</td>\n",
       "      <td>1150.0</td>\n",
       "      <td>1200.0</td>\n",
       "      <td>1197.5</td>\n",
       "      <td>...</td>\n",
       "      <td>1705.0</td>\n",
       "      <td>1775.0</td>\n",
       "      <td>1804.0</td>\n",
       "      <td>1773.0</td>\n",
       "      <td>1975.0</td>\n",
       "      <td>1960.0</td>\n",
       "      <td>1980.0</td>\n",
       "      <td>2000.0</td>\n",
       "      <td>2019.0</td>\n",
       "      <td>1989.5</td>\n",
       "    </tr>\n",
       "    <tr>\n",
       "      <th>83</th>\n",
       "      <td>Cobb County</td>\n",
       "      <td>GA</td>\n",
       "      <td>Atlanta-Sandy Springs-Roswell</td>\n",
       "      <td>13</td>\n",
       "      <td>67</td>\n",
       "      <td>84</td>\n",
       "      <td>NaN</td>\n",
       "      <td>NaN</td>\n",
       "      <td>850.0</td>\n",
       "      <td>850.0</td>\n",
       "      <td>...</td>\n",
       "      <td>1358.0</td>\n",
       "      <td>1315.0</td>\n",
       "      <td>1330.0</td>\n",
       "      <td>1316.0</td>\n",
       "      <td>1329.5</td>\n",
       "      <td>1317.5</td>\n",
       "      <td>1319.5</td>\n",
       "      <td>1318.0</td>\n",
       "      <td>1320.0</td>\n",
       "      <td>1340.5</td>\n",
       "    </tr>\n",
       "  </tbody>\n",
       "</table>\n",
       "<p>2 rows × 117 columns</p>\n",
       "</div>"
      ],
      "text/plain": [
       "       RegionName State                          Metro  StateCodeFIPS  \\\n",
       "45  Fulton County    GA  Atlanta-Sandy Springs-Roswell             13   \n",
       "83    Cobb County    GA  Atlanta-Sandy Springs-Roswell             13   \n",
       "\n",
       "    MunicipalCodeFIPS  SizeRank  2010-01  2010-02  2010-03  2010-04   ...     \\\n",
       "45                121        46      NaN   1150.0   1200.0   1197.5   ...      \n",
       "83                 67        84      NaN      NaN    850.0    850.0   ...      \n",
       "\n",
       "    2018-06  2018-07  2018-08  2018-09  2018-10  2018-11  2018-12  2019-01  \\\n",
       "45   1705.0   1775.0   1804.0   1773.0   1975.0   1960.0   1980.0   2000.0   \n",
       "83   1358.0   1315.0   1330.0   1316.0   1329.5   1317.5   1319.5   1318.0   \n",
       "\n",
       "    2019-02  2019-03  \n",
       "45   2019.0   1989.5  \n",
       "83   1320.0   1340.5  \n",
       "\n",
       "[2 rows x 117 columns]"
      ]
     },
     "execution_count": 177,
     "metadata": {},
     "output_type": "execute_result"
    }
   ],
   "source": [
    "zillow_data = zillow_data[zillow_data['State'] == 'GA']\n",
    "regions = ['Fulton County', 'Cobb County']\n",
    "index_to_drop = []\n",
    "\n",
    "practice = zillow_data.head()\n",
    "for i, row in zillow_data.iterrows():\n",
    "    if row['RegionName'] not in regions:\n",
    "        index_to_drop.append(i)\n",
    "\n",
    "zillow_data = zillow_data.drop(index_to_drop, axis=0)\n",
    "zillow_data"
   ]
  },
  {
   "cell_type": "markdown",
   "metadata": {},
   "source": [
    "Because I now have only 2 rows and 117 columns, the data will be easier to work with if I transpose it.  Also, I don't need any information aside from rent at each date, so I will remove everything from RegionName through SizeRank.  I also need to extract the month and year from the row indeces to be able to group by month later."
   ]
  },
  {
   "cell_type": "code",
   "execution_count": 178,
   "metadata": {},
   "outputs": [
    {
     "data": {
      "text/html": [
       "<div>\n",
       "<style scoped>\n",
       "    .dataframe tbody tr th:only-of-type {\n",
       "        vertical-align: middle;\n",
       "    }\n",
       "\n",
       "    .dataframe tbody tr th {\n",
       "        vertical-align: top;\n",
       "    }\n",
       "\n",
       "    .dataframe thead th {\n",
       "        text-align: right;\n",
       "    }\n",
       "</style>\n",
       "<table border=\"1\" class=\"dataframe\">\n",
       "  <thead>\n",
       "    <tr style=\"text-align: right;\">\n",
       "      <th></th>\n",
       "      <th>45</th>\n",
       "      <th>83</th>\n",
       "      <th>Year</th>\n",
       "      <th>Month</th>\n",
       "    </tr>\n",
       "  </thead>\n",
       "  <tbody>\n",
       "    <tr>\n",
       "      <th>2010-03</th>\n",
       "      <td>1200</td>\n",
       "      <td>850</td>\n",
       "      <td>2010</td>\n",
       "      <td>03</td>\n",
       "    </tr>\n",
       "    <tr>\n",
       "      <th>2010-04</th>\n",
       "      <td>1197.5</td>\n",
       "      <td>850</td>\n",
       "      <td>2010</td>\n",
       "      <td>04</td>\n",
       "    </tr>\n",
       "    <tr>\n",
       "      <th>2010-05</th>\n",
       "      <td>1200</td>\n",
       "      <td>875</td>\n",
       "      <td>2010</td>\n",
       "      <td>05</td>\n",
       "    </tr>\n",
       "    <tr>\n",
       "      <th>2010-06</th>\n",
       "      <td>1200</td>\n",
       "      <td>875</td>\n",
       "      <td>2010</td>\n",
       "      <td>06</td>\n",
       "    </tr>\n",
       "    <tr>\n",
       "      <th>2010-07</th>\n",
       "      <td>1200</td>\n",
       "      <td>895</td>\n",
       "      <td>2010</td>\n",
       "      <td>07</td>\n",
       "    </tr>\n",
       "  </tbody>\n",
       "</table>\n",
       "</div>"
      ],
      "text/plain": [
       "             45   83  Year Month\n",
       "2010-03    1200  850  2010    03\n",
       "2010-04  1197.5  850  2010    04\n",
       "2010-05    1200  875  2010    05\n",
       "2010-06    1200  875  2010    06\n",
       "2010-07    1200  895  2010    07"
      ]
     },
     "execution_count": 178,
     "metadata": {},
     "output_type": "execute_result"
    }
   ],
   "source": [
    "z_t = zillow_data.transpose()\n",
    "z_t = z_t.iloc[8:len(z_t)]\n",
    "z_t['Year'] = \"\"\n",
    "z_t['Month'] = \"\"\n",
    "\n",
    "for i, row in z_t.iterrows():\n",
    "    row['Year'] = i[0:4]\n",
    "    row['Month'] = i[5:7]\n",
    "\n",
    "z_t.head()"
   ]
  },
  {
   "cell_type": "code",
   "execution_count": 122,
   "metadata": {},
   "outputs": [],
   "source": [
    "import numpy as np\n",
    "\n",
    "grouped = z_t.groupby(['Month'])"
   ]
  },
  {
   "cell_type": "markdown",
   "metadata": {},
   "source": [
    "Normally I would just use aggregate functions and create a pivot table, but for some reason I am getting an error related to data type even though I have tried many different ways of doing this and can do it successfully \"the long way\".  I came up with a workaround that iterates through the dataframe and uses loops to calculate the averages for each group."
   ]
  },
  {
   "cell_type": "code",
   "execution_count": 179,
   "metadata": {},
   "outputs": [],
   "source": [
    "index = []\n",
    "for i in range(0,12):\n",
    "    index.append(i)\n",
    "    \n",
    "months_str = ['Jan', 'Feb', 'Mar', 'Apr', 'May', 'Jun', 'Jul', 'Aug', 'Sep', 'Oct', 'Nov', 'Dec']\n",
    "months_num = ['01', '02', '03', '04', '05', '06', '07', '08', '09', '10', '11', '12']\n",
    "col = ['Cobb', 'Fulton']\n",
    "\n",
    "avg_df = pd.DataFrame(index=index, columns=col)\n",
    "avg_df['month'] = months_str"
   ]
  },
  {
   "cell_type": "code",
   "execution_count": 180,
   "metadata": {},
   "outputs": [
    {
     "data": {
      "text/html": [
       "<div>\n",
       "<style scoped>\n",
       "    .dataframe tbody tr th:only-of-type {\n",
       "        vertical-align: middle;\n",
       "    }\n",
       "\n",
       "    .dataframe tbody tr th {\n",
       "        vertical-align: top;\n",
       "    }\n",
       "\n",
       "    .dataframe thead th {\n",
       "        text-align: right;\n",
       "    }\n",
       "</style>\n",
       "<table border=\"1\" class=\"dataframe\">\n",
       "  <thead>\n",
       "    <tr style=\"text-align: right;\">\n",
       "      <th></th>\n",
       "      <th>Cobb</th>\n",
       "      <th>Fulton</th>\n",
       "      <th>month</th>\n",
       "    </tr>\n",
       "  </thead>\n",
       "  <tbody>\n",
       "    <tr>\n",
       "      <th>0</th>\n",
       "      <td>1038.94</td>\n",
       "      <td>1403</td>\n",
       "      <td>Jan</td>\n",
       "    </tr>\n",
       "    <tr>\n",
       "      <th>1</th>\n",
       "      <td>1054.11</td>\n",
       "      <td>1426.72</td>\n",
       "      <td>Feb</td>\n",
       "    </tr>\n",
       "    <tr>\n",
       "      <th>2</th>\n",
       "      <td>1039.45</td>\n",
       "      <td>1413.6</td>\n",
       "      <td>Mar</td>\n",
       "    </tr>\n",
       "    <tr>\n",
       "      <th>3</th>\n",
       "      <td>1006.33</td>\n",
       "      <td>1357.44</td>\n",
       "      <td>Apr</td>\n",
       "    </tr>\n",
       "    <tr>\n",
       "      <th>4</th>\n",
       "      <td>1017.17</td>\n",
       "      <td>1368.78</td>\n",
       "      <td>May</td>\n",
       "    </tr>\n",
       "    <tr>\n",
       "      <th>5</th>\n",
       "      <td>1028.89</td>\n",
       "      <td>1373.11</td>\n",
       "      <td>Jun</td>\n",
       "    </tr>\n",
       "    <tr>\n",
       "      <th>6</th>\n",
       "      <td>1021.78</td>\n",
       "      <td>1369.61</td>\n",
       "      <td>Jul</td>\n",
       "    </tr>\n",
       "    <tr>\n",
       "      <th>7</th>\n",
       "      <td>1037.22</td>\n",
       "      <td>1367.39</td>\n",
       "      <td>Aug</td>\n",
       "    </tr>\n",
       "    <tr>\n",
       "      <th>8</th>\n",
       "      <td>1027.89</td>\n",
       "      <td>1368.11</td>\n",
       "      <td>Sep</td>\n",
       "    </tr>\n",
       "    <tr>\n",
       "      <th>9</th>\n",
       "      <td>1026.39</td>\n",
       "      <td>1373.67</td>\n",
       "      <td>Oct</td>\n",
       "    </tr>\n",
       "    <tr>\n",
       "      <th>10</th>\n",
       "      <td>1043.56</td>\n",
       "      <td>1395.11</td>\n",
       "      <td>Nov</td>\n",
       "    </tr>\n",
       "    <tr>\n",
       "      <th>11</th>\n",
       "      <td>1037.56</td>\n",
       "      <td>1411.06</td>\n",
       "      <td>Dec</td>\n",
       "    </tr>\n",
       "  </tbody>\n",
       "</table>\n",
       "</div>"
      ],
      "text/plain": [
       "       Cobb   Fulton month\n",
       "0   1038.94     1403   Jan\n",
       "1   1054.11  1426.72   Feb\n",
       "2   1039.45   1413.6   Mar\n",
       "3   1006.33  1357.44   Apr\n",
       "4   1017.17  1368.78   May\n",
       "5   1028.89  1373.11   Jun\n",
       "6   1021.78  1369.61   Jul\n",
       "7   1037.22  1367.39   Aug\n",
       "8   1027.89  1368.11   Sep\n",
       "9   1026.39  1373.67   Oct\n",
       "10  1043.56  1395.11   Nov\n",
       "11  1037.56  1411.06   Dec"
      ]
     },
     "execution_count": 180,
     "metadata": {},
     "output_type": "execute_result"
    }
   ],
   "source": [
    "for i, row in avg_df.iterrows():\n",
    "    num = months_num[i]\n",
    "    group = grouped.get_group(num)\n",
    "    row['Cobb'] = group[83].mean()\n",
    "    row['Fulton'] = group[45].mean()\n",
    "avg_df"
   ]
  },
  {
   "cell_type": "markdown",
   "metadata": {},
   "source": [
    "Finally, I want to visualize the data."
   ]
  },
  {
   "cell_type": "code",
   "execution_count": 181,
   "metadata": {},
   "outputs": [
    {
     "data": {
      "image/png": "[encoded data removed]",
      "text/plain": [
       "<Figure size 432x288 with 1 Axes>"
      ]
     },
     "metadata": {
      "needs_background": "light"
     },
     "output_type": "display_data"
    }
   ],
   "source": [
    "import matplotlib.pyplot as plt\n",
    "from numpy import arange\n",
    "\n",
    "fig, ax = plt.subplots()\n",
    "\n",
    "bar_heights = avg_df['Cobb'].values\n",
    "bar_positions = arange(12) + .75\n",
    "ax.bar(bar_positions, bar_heights, 0.5)\n",
    "\n",
    "tick_pos = arange(12)+0.75\n",
    "\n",
    "ax.set_ylim(1000, 1060)\n",
    "ax.set_xticks(tick_pos)\n",
    "ax.set_xticklabels(months_str)\n",
    "ax.set_ylabel('Monthly Rent')\n",
    "ax.set_title('Historical Rent by Month in Cobb County, 2010 to 2019')\n",
    "\n",
    "plt.show()"
   ]
  },
  {
   "cell_type": "markdown",
   "metadata": {},
   "source": [
    "April is clearly the best time to rent in Cobb county.  Other good options are May and July."
   ]
  },
  {
   "cell_type": "code",
   "execution_count": null,
   "metadata": {},
   "outputs": [],
   "source": []
  }
 ],
 "metadata": {
  "kernelspec": {
   "display_name": "Python 3",
   "language": "python",
   "name": "python3"
  },
  "language_info": {
   "codemirror_mode": {
    "name": "ipython",
    "version": 3
   },
   "file_extension": ".py",
   "mimetype": "text/x-python",
   "name": "python",
   "nbconvert_exporter": "python",
   "pygments_lexer": "ipython3",
   "version": "3.7.0"
  }
 },
 "nbformat": 4,
 "nbformat_minor": 2
}
